{
 "cells": [
  {
   "cell_type": "markdown",
   "metadata": {},
   "source": [
    "# Configuration of Deployment"
   ]
  },
  {
   "cell_type": "code",
   "execution_count": 7,
   "metadata": {},
   "outputs": [],
   "source": [
    "from azureml.core.model import Model, InferenceConfig\n",
    "from azureml.core import Workspace, Model, Environment\n",
    "from azureml.core.conda_dependencies import CondaDependencies \n",
    "from azureml.core.webservice import AciWebservice"
   ]
  },
  {
   "cell_type": "code",
   "execution_count": 3,
   "metadata": {},
   "outputs": [],
   "source": [
    "\n",
    "tenant_id = '178121b9-4c42-4e6f-8611-0350f0190053'\n",
    "workspace_name = 'mlw-nairobitalk-a001'\n",
    "subscription_id = '23529470-ba17-4d8a-9f0c-064e63a49c33'\n",
    "resource_group = 'rg-nairobitalk-a001'\n",
    "environment_name = 'env-pytorch'\n",
    "training_compute_name = 'gpu-cluster'\n",
    "endpoint_name = 'ci-nairobitalk-a001'\n"
   ]
  },
  {
   "cell_type": "markdown",
   "metadata": {},
   "source": [
    "## Connect to workspace"
   ]
  },
  {
   "cell_type": "code",
   "execution_count": 4,
   "metadata": {},
   "outputs": [],
   "source": [
    "credentials = InteractiveLoginAuthentication(tenant_id = tenant_id)\n",
    "ws = Workspace(subscription_id=subscription_id,\n",
    "                resource_group=resource_group,\n",
    "                workspace_name=workspace_name,\n",
    "                auth = credentials)"
   ]
  },
  {
   "cell_type": "markdown",
   "metadata": {},
   "source": [
    "## Get Registered Model"
   ]
  },
  {
   "cell_type": "code",
   "execution_count": 5,
   "metadata": {},
   "outputs": [
    {
     "name": "stdout",
     "output_type": "stream",
     "text": [
      "Loaded model version: 1\n"
     ]
    }
   ],
   "source": [
    "model = Model(ws, name='SimpsonsClassification-pytorch')\n",
    "print(\"Loaded model version:\",model.version)"
   ]
  },
  {
   "cell_type": "markdown",
   "metadata": {},
   "source": [
    "## Configure Inference Environment"
   ]
  },
  {
   "cell_type": "code",
   "execution_count": 17,
   "metadata": {},
   "outputs": [],
   "source": [
    "myenv = Environment(name=\"simpsons-inference\")\n",
    "myenv.docker.base_image = 'mcr.microsoft.com/azureml/openmpi3.1.2-ubuntu18.04:20210727.v1'\n",
    "conda_dep = CondaDependencies(conda_dependencies_file_path='inference/env.yml')\n",
    "myenv.python.conda_dependencies=conda_dep"
   ]
  },
  {
   "cell_type": "code",
   "execution_count": 18,
   "metadata": {},
   "outputs": [],
   "source": [
    "inference_config = InferenceConfig(\n",
    "    entry_script=\"inference/score.py\", \n",
    "    environment=myenv\n",
    ")\n",
    "\n",
    "deploy_config = AciWebservice.deploy_configuration(\n",
    "                    cpu_cores = 1, \n",
    "                    memory_gb = 2,\n",
    "                    description='Simpson Lego Classifier')"
   ]
  },
  {
   "cell_type": "markdown",
   "metadata": {},
   "source": [
    "## Deploy Model"
   ]
  },
  {
   "cell_type": "code",
   "execution_count": 19,
   "metadata": {},
   "outputs": [
    {
     "name": "stdout",
     "output_type": "stream",
     "text": [
      "Tips: You can try get_logs(): https://aka.ms/debugimage#dockerlog or local deployment: https://aka.ms/debugimage#debug-locally to debug if deployment takes longer than 10 minutes.\n",
      "Running\n",
      "2022-07-08 20:05:30+03:00 Creating Container Registry if not exists.\n",
      "2022-07-08 20:05:30+03:00 Registering the environment.\n",
      "2022-07-08 20:05:32+03:00 Building image."
     ]
    }
   ],
   "source": [
    "# Deploy the model to an ACI\n",
    "aci_service = Model.deploy(ws, \n",
    "                name=\"simpsons-pt-aci\", \n",
    "                models = [model], \n",
    "                inference_config = inference_config, \n",
    "                deployment_config = deploy_config, \n",
    "                overwrite = True)\n",
    "\n",
    "aci_service.wait_for_deployment(show_output=True)"
   ]
  },
  {
   "cell_type": "code",
   "execution_count": null,
   "metadata": {},
   "outputs": [],
   "source": []
  }
 ],
 "metadata": {
  "interpreter": {
   "hash": "c9e5c0e83791c2267d895b75e710147b55419ed5e5335bf8684a8b79926bffab"
  },
  "kernelspec": {
   "display_name": "Python 3.8.13 ('azureml')",
   "language": "python",
   "name": "python3"
  },
  "language_info": {
   "codemirror_mode": {
    "name": "ipython",
    "version": 3
   },
   "file_extension": ".py",
   "mimetype": "text/x-python",
   "name": "python",
   "nbconvert_exporter": "python",
   "pygments_lexer": "ipython3",
   "version": "3.8.13"
  },
  "orig_nbformat": 4
 },
 "nbformat": 4,
 "nbformat_minor": 2
}
