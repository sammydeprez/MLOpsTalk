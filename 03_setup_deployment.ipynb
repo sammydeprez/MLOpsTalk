{
 "cells": [
  {
   "cell_type": "markdown",
   "metadata": {},
   "source": [
    "# Configuration of Deployment"
   ]
  },
  {
   "cell_type": "code",
   "execution_count": 7,
   "metadata": {},
   "outputs": [],
   "source": [
    "from azureml.core.model import Model, InferenceConfig\n",
    "from azureml.core import Workspace, Model, Environment\n",
    "from azureml.core.conda_dependencies import CondaDependencies \n",
    "from azureml.core.webservice import AciWebservice"
   ]
  },
  {
   "cell_type": "code",
   "execution_count": 3,
   "metadata": {},
   "outputs": [],
   "source": [
    "\n",
    "tenant_id = '178121b9-4c42-4e6f-8611-0350f0190053'\n",
    "workspace_name = 'mlw-nairobitalk-a001'\n",
    "subscription_id = '23529470-ba17-4d8a-9f0c-064e63a49c33'\n",
    "resource_group = 'rg-nairobitalk-a001'\n",
    "environment_name = 'env-pytorch'\n",
    "training_compute_name = 'gpu-cluster'\n",
    "endpoint_name = 'ci-nairobitalk-a001'\n"
   ]
  },
  {
   "cell_type": "markdown",
   "metadata": {},
   "source": [
    "## Connect to workspace"
   ]
  },
  {
   "cell_type": "code",
   "execution_count": 4,
   "metadata": {},
   "outputs": [],
   "source": [
    "credentials = InteractiveLoginAuthentication(tenant_id = tenant_id)\n",
    "ws = Workspace(subscription_id=subscription_id,\n",
    "                resource_group=resource_group,\n",
    "                workspace_name=workspace_name,\n",
    "                auth = credentials)"
   ]
  },
  {
   "cell_type": "markdown",
   "metadata": {},
   "source": [
    "## Get Registered Model"
   ]
  },
  {
   "cell_type": "code",
   "execution_count": 5,
   "metadata": {},
   "outputs": [
    {
     "name": "stdout",
     "output_type": "stream",
     "text": [
      "Loaded model version: 1\n"
     ]
    }
   ],
   "source": [
    "model = Model(ws, name='SimpsonsClassification-pytorch')\n",
    "print(\"Loaded model version:\",model.version)"
   ]
  },
  {
   "cell_type": "markdown",
   "metadata": {},
   "source": [
    "## Configure Inference Environment"
   ]
  },
  {
   "cell_type": "code",
   "execution_count": 17,
   "metadata": {},
   "outputs": [],
   "source": [
    "myenv = Environment(name=\"simpsons-inference\")\n",
    "myenv.docker.base_image = 'mcr.microsoft.com/azureml/openmpi3.1.2-ubuntu18.04:20210727.v1'\n",
    "conda_dep = CondaDependencies(conda_dependencies_file_path='inference/env.yml')\n",
    "myenv.python.conda_dependencies=conda_dep"
   ]
  },
  {
   "cell_type": "code",
   "execution_count": 18,
   "metadata": {},
   "outputs": [],
   "source": [
    "inference_config = InferenceConfig(\n",
    "    entry_script=\"inference/score.py\", \n",
    "    environment=myenv\n",
    ")\n",
    "\n",
    "deploy_config = AciWebservice.deploy_configuration(\n",
    "                    cpu_cores = 1, \n",
    "                    memory_gb = 2,\n",
    "                    description='Simpson Lego Classifier')"
   ]
  },
  {
   "cell_type": "markdown",
   "metadata": {},
   "source": [
    "## Deploy Model"
   ]
  },
  {
   "cell_type": "code",
   "execution_count": 19,
   "metadata": {},
   "outputs": [
    {
     "name": "stdout",
     "output_type": "stream",
     "text": [
      "Tips: You can try get_logs(): https://aka.ms/debugimage#dockerlog or local deployment: https://aka.ms/debugimage#debug-locally to debug if deployment takes longer than 10 minutes.\n",
      "Running\n",
      "2022-07-08 20:05:30+03:00 Creating Container Registry if not exists.\n",
      "2022-07-08 20:05:30+03:00 Registering the environment.\n",
      "2022-07-08 20:05:32+03:00 Building image..\n",
      "2022-07-08 20:16:00+03:00 Generating deployment configuration..\n",
      "2022-07-08 20:16:02+03:00 Submitting deployment to compute..\n",
      "2022-07-08 20:16:08+03:00 Checking the status of deployment simpsons-pt-aci..\n",
      "2022-07-08 20:18:31+03:00 Checking the status of inference endpoint simpsons-pt-aci.\n",
      "Succeeded\n",
      "ACI service creation operation finished, operation \"Succeeded\"\n"
     ]
    }
   ],
   "source": [
    "# Deploy the model to an ACI\n",
    "aci_service = Model.deploy(ws, \n",
    "                name=\"simpsons-pt-aci\", \n",
    "                models = [model], \n",
    "                inference_config = inference_config, \n",
    "                deployment_config = deploy_config, \n",
    "                overwrite = True)\n",
    "\n",
    "aci_service.wait_for_deployment(show_output=True)"
   ]
  },
  {
   "cell_type": "code",
   "execution_count": 23,
   "metadata": {},
   "outputs": [
    {
     "name": "stdout",
     "output_type": "stream",
     "text": [
      "http://02fc2460-0c10-4e3b-8a8b-0305b3992fd6.westeurope.azurecontainer.io/score\n"
     ]
    },
    {
     "name": "stderr",
     "output_type": "stream",
     "text": [
      "Received bad response from Model Management Service:\n",
      "Response Code: 400\n",
      "Headers: {'Date': 'Fri, 08 Jul 2022 17:34:36 GMT', 'Content-Type': 'application/json', 'Transfer-Encoding': 'chunked', 'Connection': 'keep-alive', 'x-ms-client-request-id': '13b39df8-4250-4132-8c04-b161ae9eb0fa', 'x-ms-client-session-id': 'e965d420-f098-41a5-b02b-8e56c8155153', 'api-supported-versions': '1.0, 2018-03-01-preview, 2018-11-19', 'Strict-Transport-Security': 'max-age=15724800; includeSubDomains; preload', 'X-Content-Type-Options': 'nosniff', 'x-aml-cluster': 'vienna-westeurope-01', 'x-request-time': '0.270'}\n",
      "Content: b'{\"code\":\"BadRequest\",\"statusCode\":400,\"message\":\"The request is invalid.\",\"details\":[{\"code\":\"AuthDisabled\",\"message\":\"Authentication is disabled (authEnabled set to false). Enable service authentication to list/regenerate keys. Subscription: 23529470-ba17-4d8a-9f0c-064e63a49c33, ResourceGroup: rg-nairobitalk-a001, Workspace: mlw-nairobitalk-a001, ACR: /subscriptions/23529470-ba17-4d8a-9f0c-064e63a49c33/resourceGroups/rg-nairobitalk-a001/providers/Microsoft.ContainerRegistry/registries/crnairobitalka001\"}],\"correlation\":{\"RequestId\":\"13b39df8-4250-4132-8c04-b161ae9eb0fa\"}}'\n",
      "\n"
     ]
    },
    {
     "ename": "WebserviceException",
     "evalue": "WebserviceException:\n\tMessage: Received bad response from Model Management Service:\nResponse Code: 400\nHeaders: {'Date': 'Fri, 08 Jul 2022 17:34:36 GMT', 'Content-Type': 'application/json', 'Transfer-Encoding': 'chunked', 'Connection': 'keep-alive', 'x-ms-client-request-id': '13b39df8-4250-4132-8c04-b161ae9eb0fa', 'x-ms-client-session-id': 'e965d420-f098-41a5-b02b-8e56c8155153', 'api-supported-versions': '1.0, 2018-03-01-preview, 2018-11-19', 'Strict-Transport-Security': 'max-age=15724800; includeSubDomains; preload', 'X-Content-Type-Options': 'nosniff', 'x-aml-cluster': 'vienna-westeurope-01', 'x-request-time': '0.270'}\nContent: b'{\"code\":\"BadRequest\",\"statusCode\":400,\"message\":\"The request is invalid.\",\"details\":[{\"code\":\"AuthDisabled\",\"message\":\"Authentication is disabled (authEnabled set to false). Enable service authentication to list/regenerate keys. Subscription: 23529470-ba17-4d8a-9f0c-064e63a49c33, ResourceGroup: rg-nairobitalk-a001, Workspace: mlw-nairobitalk-a001, ACR: /subscriptions/23529470-ba17-4d8a-9f0c-064e63a49c33/resourceGroups/rg-nairobitalk-a001/providers/Microsoft.ContainerRegistry/registries/crnairobitalka001\"}],\"correlation\":{\"RequestId\":\"13b39df8-4250-4132-8c04-b161ae9eb0fa\"}}'\n\tInnerException None\n\tErrorResponse \n{\n    \"error\": {\n        \"message\": \"Received bad response from Model Management Service:\\nResponse Code: 400\\nHeaders: {'Date': 'Fri, 08 Jul 2022 17:34:36 GMT', 'Content-Type': 'application/json', 'Transfer-Encoding': 'chunked', 'Connection': 'keep-alive', 'x-ms-client-request-id': '13b39df8-4250-4132-8c04-b161ae9eb0fa', 'x-ms-client-session-id': 'e965d420-f098-41a5-b02b-8e56c8155153', 'api-supported-versions': '1.0, 2018-03-01-preview, 2018-11-19', 'Strict-Transport-Security': 'max-age=15724800; includeSubDomains; preload', 'X-Content-Type-Options': 'nosniff', 'x-aml-cluster': 'vienna-westeurope-01', 'x-request-time': '0.270'}\\nContent: b'{\\\"code\\\":\\\"BadRequest\\\",\\\"statusCode\\\":400,\\\"message\\\":\\\"The request is invalid.\\\",\\\"details\\\":[{\\\"code\\\":\\\"AuthDisabled\\\",\\\"message\\\":\\\"Authentication is disabled (authEnabled set to false). Enable service authentication to list/regenerate keys. Subscription: 23529470-ba17-4d8a-9f0c-064e63a49c33, ResourceGroup: rg-nairobitalk-a001, Workspace: mlw-nairobitalk-a001, ACR: /subscriptions/23529470-ba17-4d8a-9f0c-064e63a49c33/resourceGroups/rg-nairobitalk-a001/providers/Microsoft.ContainerRegistry/registries/crnairobitalka001\\\"}],\\\"correlation\\\":{\\\"RequestId\\\":\\\"13b39df8-4250-4132-8c04-b161ae9eb0fa\\\"}}'\"\n    }\n}",
     "output_type": "error",
     "traceback": [
      "\u001b[1;31m---------------------------------------------------------------------------\u001b[0m",
      "\u001b[1;31mHTTPError\u001b[0m                                 Traceback (most recent call last)",
      "File \u001b[1;32mc:\\Users\\DeprezSammy\\.conda\\envs\\azureml\\lib\\site-packages\\azureml\\core\\webservice\\webservice.py:1283\u001b[0m, in \u001b[0;36mWebservice.get_keys\u001b[1;34m(self)\u001b[0m\n\u001b[0;32m   <a href='file:///c%3A/Users/DeprezSammy/.conda/envs/azureml/lib/site-packages/azureml/core/webservice/webservice.py?line=1281'>1282</a>\u001b[0m     resp \u001b[39m=\u001b[39m ClientBase\u001b[39m.\u001b[39m_execute_func(get_requests_session()\u001b[39m.\u001b[39mpost, list_keys_url, params\u001b[39m=\u001b[39mparams, headers\u001b[39m=\u001b[39mheaders)\n\u001b[1;32m-> <a href='file:///c%3A/Users/DeprezSammy/.conda/envs/azureml/lib/site-packages/azureml/core/webservice/webservice.py?line=1282'>1283</a>\u001b[0m     resp\u001b[39m.\u001b[39;49mraise_for_status()\n\u001b[0;32m   <a href='file:///c%3A/Users/DeprezSammy/.conda/envs/azureml/lib/site-packages/azureml/core/webservice/webservice.py?line=1283'>1284</a>\u001b[0m \u001b[39mexcept\u001b[39;00m requests\u001b[39m.\u001b[39mexceptions\u001b[39m.\u001b[39mHTTPError:\n",
      "File \u001b[1;32mc:\\Users\\DeprezSammy\\.conda\\envs\\azureml\\lib\\site-packages\\requests\\models.py:1021\u001b[0m, in \u001b[0;36mResponse.raise_for_status\u001b[1;34m(self)\u001b[0m\n\u001b[0;32m   <a href='file:///c%3A/Users/DeprezSammy/.conda/envs/azureml/lib/site-packages/requests/models.py?line=1019'>1020</a>\u001b[0m \u001b[39mif\u001b[39;00m http_error_msg:\n\u001b[1;32m-> <a href='file:///c%3A/Users/DeprezSammy/.conda/envs/azureml/lib/site-packages/requests/models.py?line=1020'>1021</a>\u001b[0m     \u001b[39mraise\u001b[39;00m HTTPError(http_error_msg, response\u001b[39m=\u001b[39m\u001b[39mself\u001b[39m)\n",
      "\u001b[1;31mHTTPError\u001b[0m: 400 Client Error: Bad Request for url: https://westeurope.modelmanagement.azureml.net/modelmanagement/v1.0/subscriptions/23529470-ba17-4d8a-9f0c-064e63a49c33/resourceGroups/rg-nairobitalk-a001/providers/Microsoft.MachineLearningServices/workspaces/mlw-nairobitalk-a001/services/simpsons-pt-aci/listkeys",
      "\nDuring handling of the above exception, another exception occurred:\n",
      "\u001b[1;31mWebserviceException\u001b[0m                       Traceback (most recent call last)",
      "\u001b[1;32mc:\\Users\\DeprezSammy\\MLOpsTalk\\03_setup_deployment.ipynb Cell 13'\u001b[0m in \u001b[0;36m<cell line: 2>\u001b[1;34m()\u001b[0m\n\u001b[0;32m      <a href='vscode-notebook-cell:/c%3A/Users/DeprezSammy/MLOpsTalk/03_setup_deployment.ipynb#ch0000011?line=0'>1</a>\u001b[0m \u001b[39mprint\u001b[39m(aci_service\u001b[39m.\u001b[39mscoring_uri)\n\u001b[1;32m----> <a href='vscode-notebook-cell:/c%3A/Users/DeprezSammy/MLOpsTalk/03_setup_deployment.ipynb#ch0000011?line=1'>2</a>\u001b[0m \u001b[39mprint\u001b[39m(aci_service\u001b[39m.\u001b[39;49mget_keys()[\u001b[39m0\u001b[39m])\n",
      "File \u001b[1;32mc:\\Users\\DeprezSammy\\.conda\\envs\\azureml\\lib\\site-packages\\azureml\\core\\webservice\\webservice.py:1285\u001b[0m, in \u001b[0;36mWebservice.get_keys\u001b[1;34m(self)\u001b[0m\n\u001b[0;32m   <a href='file:///c%3A/Users/DeprezSammy/.conda/envs/azureml/lib/site-packages/azureml/core/webservice/webservice.py?line=1282'>1283</a>\u001b[0m     resp\u001b[39m.\u001b[39mraise_for_status()\n\u001b[0;32m   <a href='file:///c%3A/Users/DeprezSammy/.conda/envs/azureml/lib/site-packages/azureml/core/webservice/webservice.py?line=1283'>1284</a>\u001b[0m \u001b[39mexcept\u001b[39;00m requests\u001b[39m.\u001b[39mexceptions\u001b[39m.\u001b[39mHTTPError:\n\u001b[1;32m-> <a href='file:///c%3A/Users/DeprezSammy/.conda/envs/azureml/lib/site-packages/azureml/core/webservice/webservice.py?line=1284'>1285</a>\u001b[0m     \u001b[39mraise\u001b[39;00m WebserviceException(\u001b[39m'\u001b[39m\u001b[39mReceived bad response from Model Management Service:\u001b[39m\u001b[39m\\n\u001b[39;00m\u001b[39m'\u001b[39m\n\u001b[0;32m   <a href='file:///c%3A/Users/DeprezSammy/.conda/envs/azureml/lib/site-packages/azureml/core/webservice/webservice.py?line=1285'>1286</a>\u001b[0m                               \u001b[39m'\u001b[39m\u001b[39mResponse Code: \u001b[39m\u001b[39m{}\u001b[39;00m\u001b[39m\\n\u001b[39;00m\u001b[39m'\u001b[39m\n\u001b[0;32m   <a href='file:///c%3A/Users/DeprezSammy/.conda/envs/azureml/lib/site-packages/azureml/core/webservice/webservice.py?line=1286'>1287</a>\u001b[0m                               \u001b[39m'\u001b[39m\u001b[39mHeaders: \u001b[39m\u001b[39m{}\u001b[39;00m\u001b[39m\\n\u001b[39;00m\u001b[39m'\u001b[39m\n\u001b[0;32m   <a href='file:///c%3A/Users/DeprezSammy/.conda/envs/azureml/lib/site-packages/azureml/core/webservice/webservice.py?line=1287'>1288</a>\u001b[0m                               \u001b[39m'\u001b[39m\u001b[39mContent: \u001b[39m\u001b[39m{}\u001b[39;00m\u001b[39m'\u001b[39m\u001b[39m.\u001b[39mformat(resp\u001b[39m.\u001b[39mstatus_code, resp\u001b[39m.\u001b[39mheaders, resp\u001b[39m.\u001b[39mcontent),\n\u001b[0;32m   <a href='file:///c%3A/Users/DeprezSammy/.conda/envs/azureml/lib/site-packages/azureml/core/webservice/webservice.py?line=1288'>1289</a>\u001b[0m                               logger\u001b[39m=\u001b[39mmodule_logger)\n\u001b[0;32m   <a href='file:///c%3A/Users/DeprezSammy/.conda/envs/azureml/lib/site-packages/azureml/core/webservice/webservice.py?line=1290'>1291</a>\u001b[0m content \u001b[39m=\u001b[39m resp\u001b[39m.\u001b[39mcontent\n\u001b[0;32m   <a href='file:///c%3A/Users/DeprezSammy/.conda/envs/azureml/lib/site-packages/azureml/core/webservice/webservice.py?line=1291'>1292</a>\u001b[0m \u001b[39mif\u001b[39;00m \u001b[39misinstance\u001b[39m(content, \u001b[39mbytes\u001b[39m):\n",
      "\u001b[1;31mWebserviceException\u001b[0m: WebserviceException:\n\tMessage: Received bad response from Model Management Service:\nResponse Code: 400\nHeaders: {'Date': 'Fri, 08 Jul 2022 17:34:36 GMT', 'Content-Type': 'application/json', 'Transfer-Encoding': 'chunked', 'Connection': 'keep-alive', 'x-ms-client-request-id': '13b39df8-4250-4132-8c04-b161ae9eb0fa', 'x-ms-client-session-id': 'e965d420-f098-41a5-b02b-8e56c8155153', 'api-supported-versions': '1.0, 2018-03-01-preview, 2018-11-19', 'Strict-Transport-Security': 'max-age=15724800; includeSubDomains; preload', 'X-Content-Type-Options': 'nosniff', 'x-aml-cluster': 'vienna-westeurope-01', 'x-request-time': '0.270'}\nContent: b'{\"code\":\"BadRequest\",\"statusCode\":400,\"message\":\"The request is invalid.\",\"details\":[{\"code\":\"AuthDisabled\",\"message\":\"Authentication is disabled (authEnabled set to false). Enable service authentication to list/regenerate keys. Subscription: 23529470-ba17-4d8a-9f0c-064e63a49c33, ResourceGroup: rg-nairobitalk-a001, Workspace: mlw-nairobitalk-a001, ACR: /subscriptions/23529470-ba17-4d8a-9f0c-064e63a49c33/resourceGroups/rg-nairobitalk-a001/providers/Microsoft.ContainerRegistry/registries/crnairobitalka001\"}],\"correlation\":{\"RequestId\":\"13b39df8-4250-4132-8c04-b161ae9eb0fa\"}}'\n\tInnerException None\n\tErrorResponse \n{\n    \"error\": {\n        \"message\": \"Received bad response from Model Management Service:\\nResponse Code: 400\\nHeaders: {'Date': 'Fri, 08 Jul 2022 17:34:36 GMT', 'Content-Type': 'application/json', 'Transfer-Encoding': 'chunked', 'Connection': 'keep-alive', 'x-ms-client-request-id': '13b39df8-4250-4132-8c04-b161ae9eb0fa', 'x-ms-client-session-id': 'e965d420-f098-41a5-b02b-8e56c8155153', 'api-supported-versions': '1.0, 2018-03-01-preview, 2018-11-19', 'Strict-Transport-Security': 'max-age=15724800; includeSubDomains; preload', 'X-Content-Type-Options': 'nosniff', 'x-aml-cluster': 'vienna-westeurope-01', 'x-request-time': '0.270'}\\nContent: b'{\\\"code\\\":\\\"BadRequest\\\",\\\"statusCode\\\":400,\\\"message\\\":\\\"The request is invalid.\\\",\\\"details\\\":[{\\\"code\\\":\\\"AuthDisabled\\\",\\\"message\\\":\\\"Authentication is disabled (authEnabled set to false). Enable service authentication to list/regenerate keys. Subscription: 23529470-ba17-4d8a-9f0c-064e63a49c33, ResourceGroup: rg-nairobitalk-a001, Workspace: mlw-nairobitalk-a001, ACR: /subscriptions/23529470-ba17-4d8a-9f0c-064e63a49c33/resourceGroups/rg-nairobitalk-a001/providers/Microsoft.ContainerRegistry/registries/crnairobitalka001\\\"}],\\\"correlation\\\":{\\\"RequestId\\\":\\\"13b39df8-4250-4132-8c04-b161ae9eb0fa\\\"}}'\"\n    }\n}"
     ]
    }
   ],
   "source": [
    "print(aci_service.scoring_uri)"
   ]
  },
  {
   "cell_type": "code",
   "execution_count": null,
   "metadata": {},
   "outputs": [],
   "source": []
  }
 ],
 "metadata": {
  "interpreter": {
   "hash": "c9e5c0e83791c2267d895b75e710147b55419ed5e5335bf8684a8b79926bffab"
  },
  "kernelspec": {
   "display_name": "Python 3.8.13 ('azureml')",
   "language": "python",
   "name": "python3"
  },
  "language_info": {
   "codemirror_mode": {
    "name": "ipython",
    "version": 3
   },
   "file_extension": ".py",
   "mimetype": "text/x-python",
   "name": "python",
   "nbconvert_exporter": "python",
   "pygments_lexer": "ipython3",
   "version": "3.8.13"
  },
  "orig_nbformat": 4
 },
 "nbformat": 4,
 "nbformat_minor": 2
}
